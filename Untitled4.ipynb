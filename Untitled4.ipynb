{
 "cells": [
  {
   "cell_type": "markdown",
   "metadata": {},
   "source": [
    "                                     PROYECTO DE PROCESAMIENTO DE IMAGENES CON PYTHON\n",
    "                                                  ELKIN RAMIREZ GONZALEZ\n",
    "                                            \n",
    "                                                     MINERIA DE DATOS\n",
    "                                                    "
   ]
  },
  {
   "cell_type": "markdown",
   "metadata": {},
   "source": [
    "Detección de objetos con Python y OpenCV [link](https://www.youtube.com/watch?v=WIbYP5rhcUc&frags=wn&ab_channel=JacksonZambrano) "
   ]
  },
  {
   "cell_type": "code",
   "execution_count": null,
   "metadata": {},
   "outputs": [],
   "source": [
    "import cv2\n",
    "import numpy as np \n",
    "cam = cv2.VideoCapture(0) \n",
    "kernel = np.ones((5,5),np.uint8)\n",
    "\n",
    "while (True):\n",
    "\tret,frame = cam.read()\n",
    "\trangomax = np.array([50,255,50])\n",
    "\trangomin = np.array([0,51,0])\n",
    "\tmascara = cv2.inRange(frame, rangomin, rangomax)\n",
    "\topening = cv2.morphologyEx(mascara, cv2.MORPH_OPEN, kernel)\n",
    "\tx,y,w,h = cv2.boundingRect(opening)\n",
    "\tcv2.rectangle(frame,(x,y),(x+w,y+h),(0,255,0),4)\n",
    "\tcv2.imshow('camara' ,frame)\n",
    "\tk = cv2.waitKey(1) & 0xFF\n",
    "\tif k==27:\n",
    "\t\tbreak "
   ]
  },
  {
   "cell_type": "markdown",
   "metadata": {},
   "source": [
    "Crear tu propio DETECTOR DE OBJETOS con Haar Cascade | Python y OpenCV [link sitio web](https://omes-va.com/como-crear-tu-propio-detector-de-objetos-con-haar-cascade-python-y-opencv/)  y    [Link video](https://www.youtube.com/watch?v=v_cwOq06g9E&ab_channel=OMES)"
   ]
  },
  {
   "cell_type": "code",
   "execution_count": null,
   "metadata": {},
   "outputs": [],
   "source": [
    "import cv2\n",
    "import numpy as np\n",
    "import imutils\n",
    "import os\n",
    "\n",
    "Datos = 'p'\n",
    "if not os.path.exists(Datos):\n",
    "    print('Carpeta creada: ',Datos)\n",
    "    os.makedirs(Datos)\n",
    "\n",
    "cap = cv2.VideoCapture(0,cv2.CAP_DSHOW)\n",
    "\n",
    "x1, y1 = 190, 80\n",
    "x2, y2 = 450, 398\n",
    "\n",
    "count = 0\n",
    "while True:\n",
    "\n",
    "    ret, frame = cap.read()\n",
    "    if ret == False: break\n",
    "    imAux = frame.copy()\n",
    "    cv2.rectangle(frame,(x1,y1),(x2,y2),(255,0,0),2)\n",
    "\n",
    "    objeto = imAux[y1:y2,x1:x2]\n",
    "    objeto = imutils.resize(objeto,width=38)\n",
    "    #print(objeto.shape)\n",
    "\n",
    "    k = cv2.waitKey(1)\n",
    "    if k == ord('s'):\n",
    "        cv2.imwrite(Datos+'/objeto_{}.jpg'.format(count),objeto)\n",
    "        print('Imagen guardada:'+'/objeto_{}.jpg'.format(count))\n",
    "        count = count +1\n",
    "    if k == 27:\n",
    "        break\n",
    "\n",
    "    cv2.imshow('frame',frame)\n",
    "    cv2.imshow('objeto',objeto)\n",
    "\n",
    "cap.release()\n",
    "cv2.destroyAllWindows()"
   ]
  }
 ],
 "metadata": {
  "kernelspec": {
   "display_name": "Python 3",
   "language": "python",
   "name": "python3"
  },
  "language_info": {
   "codemirror_mode": {
    "name": "ipython",
    "version": 3
   },
   "file_extension": ".py",
   "mimetype": "text/x-python",
   "name": "python",
   "nbconvert_exporter": "python",
   "pygments_lexer": "ipython3",
   "version": "3.8.5"
  }
 },
 "nbformat": 4,
 "nbformat_minor": 4
}
