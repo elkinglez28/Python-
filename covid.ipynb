{
 "cells": [
  {
   "cell_type": "markdown",
   "metadata": {},
   "source": [
    "                                                 COVID - 19\n",
    "                                            ELKIN RAMIREZ GONZALEZ"
   ]
  },
  {
   "cell_type": "code",
   "execution_count": 1,
   "metadata": {},
   "outputs": [],
   "source": [
    "import scipy.misc\n",
    "import statistics\n",
    "import numpy as np # algebra lineal y componente matematica (matrices, arrreglos)\n",
    "import scipy # matematica\n",
    "import pandas as pd #manejo de datos\n",
    "from matplotlib import pyplot as plt #graficas\n",
    "%matplotlib inline\n",
    "import seaborn as sb\n",
    "import random\n",
    "from sklearn import linear_model\n",
    "from sklearn.metrics import mean_squared_error, r2_score\n",
    "from mpl_toolkits.mplot3d import Axes3D\n",
    "import cv2"
   ]
  },
  {
   "cell_type": "markdown",
   "metadata": {},
   "source": [
    "**ENTRADA DE LOS DATOS**"
   ]
  },
  {
   "cell_type": "code",
   "execution_count": 65,
   "metadata": {},
   "outputs": [
    {
     "data": {
      "text/html": [
       "<div>\n",
       "<style scoped>\n",
       "    .dataframe tbody tr th:only-of-type {\n",
       "        vertical-align: middle;\n",
       "    }\n",
       "\n",
       "    .dataframe tbody tr th {\n",
       "        vertical-align: top;\n",
       "    }\n",
       "\n",
       "    .dataframe thead th {\n",
       "        text-align: right;\n",
       "    }\n",
       "</style>\n",
       "<table border=\"1\" class=\"dataframe\">\n",
       "  <thead>\n",
       "    <tr style=\"text-align: right;\">\n",
       "      <th></th>\n",
       "      <th>Id</th>\n",
       "      <th>Ciudad</th>\n",
       "      <th>Departamento o Distrito</th>\n",
       "      <th>Atencion</th>\n",
       "      <th>Edad</th>\n",
       "      <th>Sexo</th>\n",
       "      <th>Tipo</th>\n",
       "      <th>Estado</th>\n",
       "      <th>Procedencia</th>\n",
       "    </tr>\n",
       "  </thead>\n",
       "  <tbody>\n",
       "    <tr>\n",
       "      <th>0</th>\n",
       "      <td>1</td>\n",
       "      <td>Bogotá D.C.</td>\n",
       "      <td>Bogotá D.C.</td>\n",
       "      <td>Recuperado</td>\n",
       "      <td>19</td>\n",
       "      <td>F</td>\n",
       "      <td>Importado</td>\n",
       "      <td>Leve</td>\n",
       "      <td>Italia</td>\n",
       "    </tr>\n",
       "    <tr>\n",
       "      <th>1</th>\n",
       "      <td>2</td>\n",
       "      <td>Guadalajara de Buga</td>\n",
       "      <td>Valle del Cauca</td>\n",
       "      <td>Recuperado</td>\n",
       "      <td>34</td>\n",
       "      <td>M</td>\n",
       "      <td>Importado</td>\n",
       "      <td>Leve</td>\n",
       "      <td>España</td>\n",
       "    </tr>\n",
       "    <tr>\n",
       "      <th>2</th>\n",
       "      <td>3</td>\n",
       "      <td>Medellín</td>\n",
       "      <td>Antioquia</td>\n",
       "      <td>Recuperado</td>\n",
       "      <td>50</td>\n",
       "      <td>F</td>\n",
       "      <td>Importado</td>\n",
       "      <td>Leve</td>\n",
       "      <td>España</td>\n",
       "    </tr>\n",
       "    <tr>\n",
       "      <th>3</th>\n",
       "      <td>4</td>\n",
       "      <td>Medellín</td>\n",
       "      <td>Antioquia</td>\n",
       "      <td>Recuperado</td>\n",
       "      <td>55</td>\n",
       "      <td>M</td>\n",
       "      <td>Relacionado</td>\n",
       "      <td>Leve</td>\n",
       "      <td>Colombia</td>\n",
       "    </tr>\n",
       "    <tr>\n",
       "      <th>4</th>\n",
       "      <td>5</td>\n",
       "      <td>Medellín</td>\n",
       "      <td>Antioquia</td>\n",
       "      <td>Recuperado</td>\n",
       "      <td>25</td>\n",
       "      <td>M</td>\n",
       "      <td>Relacionado</td>\n",
       "      <td>Leve</td>\n",
       "      <td>Colombia</td>\n",
       "    </tr>\n",
       "    <tr>\n",
       "      <th>...</th>\n",
       "      <td>...</td>\n",
       "      <td>...</td>\n",
       "      <td>...</td>\n",
       "      <td>...</td>\n",
       "      <td>...</td>\n",
       "      <td>...</td>\n",
       "      <td>...</td>\n",
       "      <td>...</td>\n",
       "      <td>...</td>\n",
       "    </tr>\n",
       "    <tr>\n",
       "      <th>14211</th>\n",
       "      <td>14252</td>\n",
       "      <td>Cartagena de Indias</td>\n",
       "      <td>Cartagena D.T. y C.</td>\n",
       "      <td>Casa</td>\n",
       "      <td>1</td>\n",
       "      <td>M</td>\n",
       "      <td>En estudio</td>\n",
       "      <td>Leve</td>\n",
       "      <td>Colombia</td>\n",
       "    </tr>\n",
       "    <tr>\n",
       "      <th>14212</th>\n",
       "      <td>14253</td>\n",
       "      <td>Cartagena de Indias</td>\n",
       "      <td>Cartagena D.T. y C.</td>\n",
       "      <td>Casa</td>\n",
       "      <td>45</td>\n",
       "      <td>M</td>\n",
       "      <td>En estudio</td>\n",
       "      <td>Asintomático</td>\n",
       "      <td>Colombia</td>\n",
       "    </tr>\n",
       "    <tr>\n",
       "      <th>14213</th>\n",
       "      <td>14254</td>\n",
       "      <td>Cartagena de Indias</td>\n",
       "      <td>Cartagena D.T. y C.</td>\n",
       "      <td>Casa</td>\n",
       "      <td>27</td>\n",
       "      <td>F</td>\n",
       "      <td>En estudio</td>\n",
       "      <td>Asintomático</td>\n",
       "      <td>Colombia</td>\n",
       "    </tr>\n",
       "    <tr>\n",
       "      <th>14214</th>\n",
       "      <td>14255</td>\n",
       "      <td>Medellín</td>\n",
       "      <td>Antioquia</td>\n",
       "      <td>Casa</td>\n",
       "      <td>5</td>\n",
       "      <td>F</td>\n",
       "      <td>Relacionado</td>\n",
       "      <td>Asintomático</td>\n",
       "      <td>Colombia</td>\n",
       "    </tr>\n",
       "    <tr>\n",
       "      <th>14215</th>\n",
       "      <td>14256</td>\n",
       "      <td>Medellín</td>\n",
       "      <td>Antioquia</td>\n",
       "      <td>Casa</td>\n",
       "      <td>32</td>\n",
       "      <td>M</td>\n",
       "      <td>Relacionado</td>\n",
       "      <td>Leve</td>\n",
       "      <td>Colombia</td>\n",
       "    </tr>\n",
       "  </tbody>\n",
       "</table>\n",
       "<p>14216 rows × 9 columns</p>\n",
       "</div>"
      ],
      "text/plain": [
       "          Id               Ciudad Departamento o Distrito     Atencion  Edad  \\\n",
       "0          1          Bogotá D.C.              Bogotá D.C.  Recuperado    19   \n",
       "1          2  Guadalajara de Buga          Valle del Cauca  Recuperado    34   \n",
       "2          3             Medellín                Antioquia  Recuperado    50   \n",
       "3          4             Medellín                Antioquia  Recuperado    55   \n",
       "4          5             Medellín                Antioquia  Recuperado    25   \n",
       "...      ...                  ...                      ...         ...   ...   \n",
       "14211  14252  Cartagena de Indias      Cartagena D.T. y C.        Casa     1   \n",
       "14212  14253  Cartagena de Indias      Cartagena D.T. y C.        Casa    45   \n",
       "14213  14254  Cartagena de Indias      Cartagena D.T. y C.        Casa    27   \n",
       "14214  14255             Medellín                Antioquia        Casa     5   \n",
       "14215  14256             Medellín                Antioquia        Casa    32   \n",
       "\n",
       "      Sexo         Tipo        Estado Procedencia  \n",
       "0        F    Importado          Leve      Italia  \n",
       "1        M    Importado          Leve      España  \n",
       "2        F    Importado          Leve      España  \n",
       "3        M  Relacionado          Leve    Colombia  \n",
       "4        M  Relacionado          Leve    Colombia  \n",
       "...    ...          ...           ...         ...  \n",
       "14211    M   En estudio          Leve    Colombia  \n",
       "14212    M   En estudio  Asintomático    Colombia  \n",
       "14213    F   En estudio  Asintomático    Colombia  \n",
       "14214    F  Relacionado  Asintomático    Colombia  \n",
       "14215    M  Relacionado          Leve    Colombia  \n",
       "\n",
       "[14216 rows x 9 columns]"
      ]
     },
     "execution_count": 65,
     "metadata": {},
     "output_type": "execute_result"
    }
   ],
   "source": [
    "data = pd.read_csv('C:/Users/elkin/Documentos/Casoss.csv', sep=';')\n",
    "data.head(14217)\n"
   ]
  },
  {
   "cell_type": "markdown",
   "metadata": {},
   "source": [
    "**IDENTIFICACION DE VARIABLES**"
   ]
  },
  {
   "cell_type": "code",
   "execution_count": 41,
   "metadata": {},
   "outputs": [
    {
     "data": {
      "text/plain": [
       "Id                           int64\n",
       "Ciudad                      object\n",
       "Departamento o Distrito     object\n",
       "Atencion                    object\n",
       "Edad                         int64\n",
       "Sexo                        object\n",
       "Tipo                        object\n",
       "Estado                      object\n",
       "Procedencia                 object\n",
       "dtype: object"
      ]
     },
     "execution_count": 41,
     "metadata": {},
     "output_type": "execute_result"
    }
   ],
   "source": [
    "data.dtypes"
   ]
  },
  {
   "cell_type": "markdown",
   "metadata": {},
   "source": [
    "**ANALISIS ESTADISTICO**"
   ]
  },
  {
   "cell_type": "code",
   "execution_count": 42,
   "metadata": {},
   "outputs": [
    {
     "data": {
      "text/html": [
       "<div>\n",
       "<style scoped>\n",
       "    .dataframe tbody tr th:only-of-type {\n",
       "        vertical-align: middle;\n",
       "    }\n",
       "\n",
       "    .dataframe tbody tr th {\n",
       "        vertical-align: top;\n",
       "    }\n",
       "\n",
       "    .dataframe thead th {\n",
       "        text-align: right;\n",
       "    }\n",
       "</style>\n",
       "<table border=\"1\" class=\"dataframe\">\n",
       "  <thead>\n",
       "    <tr style=\"text-align: right;\">\n",
       "      <th></th>\n",
       "      <th>Id</th>\n",
       "      <th>Edad</th>\n",
       "    </tr>\n",
       "  </thead>\n",
       "  <tbody>\n",
       "    <tr>\n",
       "      <th>count</th>\n",
       "      <td>14216.000000</td>\n",
       "      <td>14216.000000</td>\n",
       "    </tr>\n",
       "    <tr>\n",
       "      <th>mean</th>\n",
       "      <td>7136.179727</td>\n",
       "      <td>39.786016</td>\n",
       "    </tr>\n",
       "    <tr>\n",
       "      <th>std</th>\n",
       "      <td>4118.718202</td>\n",
       "      <td>18.759310</td>\n",
       "    </tr>\n",
       "    <tr>\n",
       "      <th>min</th>\n",
       "      <td>1.000000</td>\n",
       "      <td>0.000000</td>\n",
       "    </tr>\n",
       "    <tr>\n",
       "      <th>25%</th>\n",
       "      <td>3554.750000</td>\n",
       "      <td>26.000000</td>\n",
       "    </tr>\n",
       "    <tr>\n",
       "      <th>50%</th>\n",
       "      <td>7148.500000</td>\n",
       "      <td>37.000000</td>\n",
       "    </tr>\n",
       "    <tr>\n",
       "      <th>75%</th>\n",
       "      <td>10702.250000</td>\n",
       "      <td>52.000000</td>\n",
       "    </tr>\n",
       "    <tr>\n",
       "      <th>max</th>\n",
       "      <td>14256.000000</td>\n",
       "      <td>103.000000</td>\n",
       "    </tr>\n",
       "  </tbody>\n",
       "</table>\n",
       "</div>"
      ],
      "text/plain": [
       "                 Id          Edad\n",
       "count  14216.000000  14216.000000\n",
       "mean    7136.179727     39.786016\n",
       "std     4118.718202     18.759310\n",
       "min        1.000000      0.000000\n",
       "25%     3554.750000     26.000000\n",
       "50%     7148.500000     37.000000\n",
       "75%    10702.250000     52.000000\n",
       "max    14256.000000    103.000000"
      ]
     },
     "execution_count": 42,
     "metadata": {},
     "output_type": "execute_result"
    }
   ],
   "source": [
    "data.describe()"
   ]
  },
  {
   "cell_type": "markdown",
   "metadata": {},
   "source": [
    "**CORRELACION**"
   ]
  },
  {
   "cell_type": "code",
   "execution_count": 43,
   "metadata": {},
   "outputs": [
    {
     "data": {
      "text/html": [
       "<div>\n",
       "<style scoped>\n",
       "    .dataframe tbody tr th:only-of-type {\n",
       "        vertical-align: middle;\n",
       "    }\n",
       "\n",
       "    .dataframe tbody tr th {\n",
       "        vertical-align: top;\n",
       "    }\n",
       "\n",
       "    .dataframe thead th {\n",
       "        text-align: right;\n",
       "    }\n",
       "</style>\n",
       "<table border=\"1\" class=\"dataframe\">\n",
       "  <thead>\n",
       "    <tr style=\"text-align: right;\">\n",
       "      <th></th>\n",
       "      <th>Id</th>\n",
       "      <th>Edad</th>\n",
       "    </tr>\n",
       "  </thead>\n",
       "  <tbody>\n",
       "    <tr>\n",
       "      <th>Id</th>\n",
       "      <td>1.000000</td>\n",
       "      <td>-0.074001</td>\n",
       "    </tr>\n",
       "    <tr>\n",
       "      <th>Edad</th>\n",
       "      <td>-0.074001</td>\n",
       "      <td>1.000000</td>\n",
       "    </tr>\n",
       "  </tbody>\n",
       "</table>\n",
       "</div>"
      ],
      "text/plain": [
       "            Id      Edad\n",
       "Id    1.000000 -0.074001\n",
       "Edad -0.074001  1.000000"
      ]
     },
     "execution_count": 43,
     "metadata": {},
     "output_type": "execute_result"
    }
   ],
   "source": [
    "data.corr()"
   ]
  },
  {
   "cell_type": "code",
   "execution_count": 63,
   "metadata": {},
   "outputs": [
    {
     "data": {
      "text/plain": [
       "<matplotlib.axes._subplots.AxesSubplot at 0x1f3b62afb88>"
      ]
     },
     "execution_count": 63,
     "metadata": {},
     "output_type": "execute_result"
    },
    {
     "data": {
      "image/png": "[encoded data removed]",
      "text/plain": [
       "<Figure size 432x288 with 2 Axes>"
      ]
     },
     "metadata": {
      "needs_background": "light"
     },
     "output_type": "display_data"
    }
   ],
   "source": [
    "import seaborn as sns\n",
    "corr = data.corr()\n",
    "sns.heatmap(corr, \n",
    "            xticklabels=corr.columns.values,\n",
    "            yticklabels=corr.columns.values)"
   ]
  },
  {
   "cell_type": "markdown",
   "metadata": {},
   "source": [
    "**COVARIANZA**"
   ]
  },
  {
   "cell_type": "code",
   "execution_count": 44,
   "metadata": {},
   "outputs": [
    {
     "data": {
      "text/html": [
       "<div>\n",
       "<style scoped>\n",
       "    .dataframe tbody tr th:only-of-type {\n",
       "        vertical-align: middle;\n",
       "    }\n",
       "\n",
       "    .dataframe tbody tr th {\n",
       "        vertical-align: top;\n",
       "    }\n",
       "\n",
       "    .dataframe thead th {\n",
       "        text-align: right;\n",
       "    }\n",
       "</style>\n",
       "<table border=\"1\" class=\"dataframe\">\n",
       "  <thead>\n",
       "    <tr style=\"text-align: right;\">\n",
       "      <th></th>\n",
       "      <th>Id</th>\n",
       "      <th>Edad</th>\n",
       "    </tr>\n",
       "  </thead>\n",
       "  <tbody>\n",
       "    <tr>\n",
       "      <th>Id</th>\n",
       "      <td>1.696384e+07</td>\n",
       "      <td>-5717.619646</td>\n",
       "    </tr>\n",
       "    <tr>\n",
       "      <th>Edad</th>\n",
       "      <td>-5.717620e+03</td>\n",
       "      <td>351.911717</td>\n",
       "    </tr>\n",
       "  </tbody>\n",
       "</table>\n",
       "</div>"
      ],
      "text/plain": [
       "                Id         Edad\n",
       "Id    1.696384e+07 -5717.619646\n",
       "Edad -5.717620e+03   351.911717"
      ]
     },
     "execution_count": 44,
     "metadata": {},
     "output_type": "execute_result"
    }
   ],
   "source": [
    "data.cov()"
   ]
  },
  {
   "cell_type": "markdown",
   "metadata": {},
   "source": [
    "**PEARSON**"
   ]
  },
  {
   "cell_type": "code",
   "execution_count": 45,
   "metadata": {},
   "outputs": [
    {
     "data": {
      "text/html": [
       "<div>\n",
       "<style scoped>\n",
       "    .dataframe tbody tr th:only-of-type {\n",
       "        vertical-align: middle;\n",
       "    }\n",
       "\n",
       "    .dataframe tbody tr th {\n",
       "        vertical-align: top;\n",
       "    }\n",
       "\n",
       "    .dataframe thead th {\n",
       "        text-align: right;\n",
       "    }\n",
       "</style>\n",
       "<table border=\"1\" class=\"dataframe\">\n",
       "  <thead>\n",
       "    <tr style=\"text-align: right;\">\n",
       "      <th></th>\n",
       "      <th>Id</th>\n",
       "      <th>Edad</th>\n",
       "    </tr>\n",
       "  </thead>\n",
       "  <tbody>\n",
       "    <tr>\n",
       "      <th>Id</th>\n",
       "      <td>1.000000</td>\n",
       "      <td>-0.074001</td>\n",
       "    </tr>\n",
       "    <tr>\n",
       "      <th>Edad</th>\n",
       "      <td>-0.074001</td>\n",
       "      <td>1.000000</td>\n",
       "    </tr>\n",
       "  </tbody>\n",
       "</table>\n",
       "</div>"
      ],
      "text/plain": [
       "            Id      Edad\n",
       "Id    1.000000 -0.074001\n",
       "Edad -0.074001  1.000000"
      ]
     },
     "execution_count": 45,
     "metadata": {},
     "output_type": "execute_result"
    }
   ],
   "source": [
    "data.corr('pearson')"
   ]
  },
  {
   "cell_type": "markdown",
   "metadata": {},
   "source": [
    "**EDADES CON MAS CONTAGIO**"
   ]
  },
  {
   "cell_type": "code",
   "execution_count": 67,
   "metadata": {},
   "outputs": [
    {
     "data": {
      "text/plain": [
       "29     387\n",
       "27     370\n",
       "30     354\n",
       "26     350\n",
       "25     349\n",
       "      ... \n",
       "95       4\n",
       "97       2\n",
       "98       2\n",
       "100      1\n",
       "103      1\n",
       "Name: Edad, Length: 101, dtype: int64"
      ]
     },
     "execution_count": 67,
     "metadata": {},
     "output_type": "execute_result"
    }
   ],
   "source": [
    "Edad.value_counts()"
   ]
  },
  {
   "cell_type": "markdown",
   "metadata": {},
   "source": [
    "**En la siguiente gráfica vemos entre qué valores se concentran la mayoría de edad.**"
   ]
  },
  {
   "cell_type": "code",
   "execution_count": 48,
   "metadata": {},
   "outputs": [
    {
     "data": {
      "image/png": "[encoded data removed]",
      "text/plain": [
       "<Figure size 432x288 with 1 Axes>"
      ]
     },
     "metadata": {
      "needs_background": "light"
     },
     "output_type": "display_data"
    }
   ],
   "source": [
    "data.drop(['Id'],1).hist()\n",
    "plt.show()"
   ]
  },
  {
   "cell_type": "code",
   "execution_count": null,
   "metadata": {},
   "outputs": [],
   "source": []
  }
 ],
 "metadata": {
  "kernelspec": {
   "display_name": "Python 3",
   "language": "python",
   "name": "python3"
  },
  "language_info": {
   "codemirror_mode": {
    "name": "ipython",
    "version": 3
   },
   "file_extension": ".py",
   "mimetype": "text/x-python",
   "name": "python",
   "nbconvert_exporter": "python",
   "pygments_lexer": "ipython3",
   "version": "3.8.5"
  }
 },
 "nbformat": 4,
 "nbformat_minor": 4
}
