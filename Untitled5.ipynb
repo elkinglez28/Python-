{
 "cells": [
  {
   "cell_type": "code",
   "execution_count": null,
   "metadata": {},
   "outputs": [],
   "source": [
    "import cv2\n",
    "import numpy as np\n",
    "import imutils\n",
    "import os\n",
    "\n",
    "Datos = 'trompo'\n",
    "if not os.path.exists(Datos):\n",
    "    print('Carpeta creada: ',Datos)\n",
    "    os.makedirs(Datos)\n",
    "\n",
    "cap = cv2.VideoCapture(0,cv2.CAP_DSHOW)\n",
    "\n",
    "x1, y1 = 190, 80\n",
    "x2, y2 = 450, 398\n",
    "\n",
    "count = 0\n",
    "while True:\n",
    "\n",
    "    ret, frame = cap.read()\n",
    "    if ret == False: break\n",
    "    imAux = frame.copy()\n",
    "    cv2.rectangle(frame,(x1,y1),(x2,y2),(255,0,0),2)\n",
    "\n",
    "    objeto = imAux[y1:y2,x1:x2]\n",
    "    objeto = imutils.resize(objeto,width=38)\n",
    "   \n",
    "\n",
    "    k = cv2.waitKey(1)\n",
    "    if k == ord('s'):\n",
    "        cv2.imwrite(Datos+'/objeto_{}.jpg'.format(count),objeto)\n",
    "        print('Imagen guardada:'+'/objeto_{}.jpg'.format(count))\n",
    "        count = count +1\n",
    "    if k == 27:\n",
    "        break\n",
    "\n",
    "    cv2.imshow('camara',frame)\n",
    "    cv2.imshow('objeto',objeto)\n",
    "\n",
    "cap.release()\n",
    "cv2.destroyAllWindows()"
   ]
  },
  {
   "cell_type": "code",
   "execution_count": null,
   "metadata": {},
   "outputs": [],
   "source": [
    "import cv2\n",
    "cap = cv2.VideoCapture(0,cv2.CAP_DSHOW)\n",
    "majinBooClassif = cv2.CascadeClassifier('cascade.xml')\n",
    "while True:\n",
    "    \n",
    "    ret,frame = cap.read()\n",
    "    gray = cv2.cvtColor(frame, cv2.COLOR_BGR2GRAY)\n",
    "    toy = majinBooClassif.detectMultiScale(gray,\n",
    "    scaleFactor = 5,\n",
    "    minNeighbors = 91,\n",
    "    minSize=(70,78))\n",
    "    for (x,y,w,h) in toy:\n",
    "        cv2.rectangle(frame, (x,y),(x+w,y+h),(0,255,0),2)\n",
    "        cv2.putText(frame,'Trompo',(x,y-10),2,0.7,(0,255,0),2,cv2.LINE_AA)\n",
    "    cv2.imshow('frame',frame)\n",
    "    \n",
    "    if cv2.waitKey(1) == 27:\n",
    "        break\n",
    "cap.release()\n",
    "cv2.destroyAllWindows()"
   ]
  }
 ],
 "metadata": {
  "kernelspec": {
   "display_name": "Python 3",
   "language": "python",
   "name": "python3"
  },
  "language_info": {
   "codemirror_mode": {
    "name": "ipython",
    "version": 3
   },
   "file_extension": ".py",
   "mimetype": "text/x-python",
   "name": "python",
   "nbconvert_exporter": "python",
   "pygments_lexer": "ipython3",
   "version": "3.8.5"
  }
 },
 "nbformat": 4,
 "nbformat_minor": 4
}
