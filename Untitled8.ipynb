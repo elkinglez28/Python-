{
 "cells": [
  {
   "cell_type": "code",
   "execution_count": 2,
   "metadata": {},
   "outputs": [
    {
     "name": "stdout",
     "output_type": "stream",
     "text": [
      "Processing c:\\users\\elkin\\appdata\\local\\pip\\cache\\wheels\\a8\\8b\\78\\d0ae9aa22f0efb2ac44feb35ce4cf09bdae5adb37b9723fa76\\cvlib-0.2.5-py3-none-any.whlNote: you may need to restart the kernel to use updated packages.\n",
      "Requirement already satisfied: requests in c:\\users\\elkin\\anaconda3\\lib\\site-packages (from cvlib) (2.24.0)\n",
      "Requirement already satisfied: numpy in c:\\users\\elkin\\anaconda3\\lib\\site-packages (from cvlib) (1.19.2)\n",
      "Requirement already satisfied: pillow in c:\\users\\elkin\\anaconda3\\lib\\site-packages (from cvlib) (8.0.1)\n",
      "Requirement already satisfied: imageio in c:\\users\\elkin\\anaconda3\\lib\\site-packages (from cvlib) (2.9.0)\n",
      "Processing c:\\users\\elkin\\appdata\\local\\pip\\cache\\wheels\\2c\\67\\ed\\d84123843c937d7e7f5ba88a270d11036473144143355e2747\\progressbar-2.5-py3-none-any.whl\n",
      "Processing c:\\users\\elkin\\appdata\\local\\pip\\cache\\wheels\\c8\\d6\\0f\\b0c3892b70c59f0d202f8619a449f7d14cb839a0af2f943869\\imutils-0.5.3-py3-none-any.whl\n",
      "Requirement already satisfied: idna<3,>=2.5 in c:\\users\\elkin\\anaconda3\\lib\\site-packages (from requests->cvlib) (2.10)\n",
      "Requirement already satisfied: certifi>=2017.4.17 in c:\\users\\elkin\\anaconda3\\lib\\site-packages (from requests->cvlib) (2020.6.20)\n",
      "Requirement already satisfied: chardet<4,>=3.0.2 in c:\\users\\elkin\\anaconda3\\lib\\site-packages (from requests->cvlib) (3.0.4)\n",
      "Requirement already satisfied: urllib3!=1.25.0,!=1.25.1,<1.26,>=1.21.1 in c:\\users\\elkin\\anaconda3\\lib\\site-packages (from requests->cvlib) (1.25.11)\n",
      "Installing collected packages: progressbar, imutils, cvlib\n",
      "Successfully installed cvlib-0.2.5 imutils-0.5.3 progressbar-2.5\n",
      "\n"
     ]
    }
   ],
   "source": [
    "pip install cvlib"
   ]
  },
  {
   "cell_type": "code",
   "execution_count": null,
   "metadata": {},
   "outputs": [],
   "source": []
  }
 ],
 "metadata": {
  "kernelspec": {
   "display_name": "Python 3",
   "language": "python",
   "name": "python3"
  },
  "language_info": {
   "codemirror_mode": {
    "name": "ipython",
    "version": 3
   },
   "file_extension": ".py",
   "mimetype": "text/x-python",
   "name": "python",
   "nbconvert_exporter": "python",
   "pygments_lexer": "ipython3",
   "version": "3.8.5"
  }
 },
 "nbformat": 4,
 "nbformat_minor": 4
}
