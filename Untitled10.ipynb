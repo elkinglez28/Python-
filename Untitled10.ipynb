{
 "cells": [
  {
   "cell_type": "markdown",
   "metadata": {},
   "source": [
    "# **VARIABLES**"
   ]
  },
  {
   "cell_type": "markdown",
   "metadata": {},
   "source": [
    "### **STRING**"
   ]
  },
  {
   "cell_type": "markdown",
   "metadata": {},
   "source": [
    "•\t**La asignación**: consiste en agregar una línea de caracteres a otra\n",
    "Se utiliza el operador **+=**\n"
   ]
  },
  {
   "cell_type": "code",
   "execution_count": 27,
   "metadata": {},
   "outputs": [
    {
     "name": "stdout",
     "output_type": "stream",
     "text": [
      "hola elkin\n",
      "hola elkin\n"
     ]
    }
   ],
   "source": [
    "mensaje = \"hola\"\n",
    "mensaje += \" \"\n",
    "mensaje += \"elkin\"\n",
    "mensajee = \"hola elkin\"\n",
    "print(mensajee)\n",
    "print(mensaje)\n",
    "\n"
   ]
  },
  {
   "cell_type": "markdown",
   "metadata": {},
   "source": [
    "\n",
    "•\t**La concatenación**: es una operación que consiste en unir dos o más cadenas **+**\n"
   ]
  },
  {
   "cell_type": "code",
   "execution_count": 25,
   "metadata": {},
   "outputs": [
    {
     "name": "stdout",
     "output_type": "stream",
     "text": [
      "hola elkin\n"
     ]
    }
   ],
   "source": [
    "mensaje = \"hola\"\n",
    "espacio = \" \"\n",
    "mensajee = \"elkin\"\n",
    "print(mensaje + espacio + mensajee)\n"
   ]
  },
  {
   "cell_type": "code",
   "execution_count": 24,
   "metadata": {},
   "outputs": [
    {
     "name": "stdout",
     "output_type": "stream",
     "text": [
      "esto es una suma\n",
      "el resultado de la suma es: 110\n"
     ]
    }
   ],
   "source": [
    "print (\"esto es una suma\")\n",
    "numero_1 = 5\n",
    "nnumero_2 = 105\n",
    "resultado = numero_1 + nnumero_2\n",
    "resultado = str(resultado)\n",
    "print(\"el resultado de la suma es: \" + resultado)\n"
   ]
  },
  {
   "cell_type": "markdown",
   "metadata": {},
   "source": [
    "\n",
    "•\t**La busqueda**: Consiste en localizar dentro de una cadena, una subcadena mas pequeña de caracter **find**\n"
   ]
  },
  {
   "cell_type": "code",
   "execution_count": 30,
   "metadata": {},
   "outputs": [
    {
     "name": "stdout",
     "output_type": "stream",
     "text": [
      "5\n"
     ]
    }
   ],
   "source": [
    "mensaje = \"hola elkin como estas elkin\"\n",
    "bmens = mensaje.find(\"elkin\")\n",
    "print(bmens)"
   ]
  },
  {
   "cell_type": "markdown",
   "metadata": {},
   "source": [
    "•\t**La extraccion**: se trata de sacar afuera de una cadena, una porcion de la misma segun su posicion dentro de ella. **posicion a extraer [1:8]**"
   ]
  },
  {
   "cell_type": "code",
   "execution_count": 33,
   "metadata": {},
   "outputs": [
    {
     "name": "stdout",
     "output_type": "stream",
     "text": [
      "elkin como e\n"
     ]
    }
   ],
   "source": [
    "mensaje = (\"hola elkin como estas\")\n",
    "extraer = mensaje[5:17]\n",
    "print(extraer)"
   ]
  },
  {
   "cell_type": "markdown",
   "metadata": {},
   "source": [
    "•\t**La comparacion**: comparar dos lineas de caracteres. **==**"
   ]
  },
  {
   "cell_type": "code",
   "execution_count": 36,
   "metadata": {},
   "outputs": [
    {
     "data": {
      "text/plain": [
       "False"
      ]
     },
     "execution_count": 36,
     "metadata": {},
     "output_type": "execute_result"
    }
   ],
   "source": [
    "mensaje_1 = (\"elkin\")\n",
    "mensaje_2 = (\"elkinn\")\n",
    "mensaje_1 == mensaje_2"
   ]
  },
  {
   "cell_type": "code",
   "execution_count": null,
   "metadata": {},
   "outputs": [],
   "source": []
  }
 ],
 "metadata": {
  "kernelspec": {
   "display_name": "Python 3",
   "language": "python",
   "name": "python3"
  },
  "language_info": {
   "codemirror_mode": {
    "name": "ipython",
    "version": 3
   },
   "file_extension": ".py",
   "mimetype": "text/x-python",
   "name": "python",
   "nbconvert_exporter": "python",
   "pygments_lexer": "ipython3",
   "version": "3.8.5"
  }
 },
 "nbformat": 4,
 "nbformat_minor": 4
}
